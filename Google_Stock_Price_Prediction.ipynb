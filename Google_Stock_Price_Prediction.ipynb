{
  "nbformat": 4,
  "nbformat_minor": 0,
  "metadata": {
    "colab": {
      "name": "Google_Stock_Price_Prediction.ipynb",
      "provenance": [],
      "collapsed_sections": []
    },
    "kernelspec": {
      "name": "python3",
      "display_name": "Python 3"
    }
  },
  "cells": [
    {
      "cell_type": "code",
      "metadata": {
        "id": "jeGi3li3B2UN",
        "colab_type": "code",
        "colab": {}
      },
      "source": [
        "# Import the machine learning libraries.\n",
        "import math\n",
        "import pandas_datareader as web\n",
        "import numpy as np\n",
        "import pandas as pd\n",
        "from sklearn.preprocessing import MinMaxScaler\n",
        "from keras.models import Sequential\n",
        "from keras.layers import Dense, LSTM\n",
        "import matplotlib.pyplot as plt"
      ],
      "execution_count": 0,
      "outputs": []
    },
    {
      "cell_type": "code",
      "metadata": {
        "id": "PyKejkRECK6l",
        "colab_type": "code",
        "outputId": "55d7ce41-9716-402e-e1cc-0e9a615387c6",
        "colab": {
          "base_uri": "https://localhost:8080/",
          "height": 390
        }
      },
      "source": [
        "# Get the stock quote of Apple Inc.\n",
        "df = web.DataReader('GOOGL', data_source='yahoo', start='2007-01-01', end='2020-08-08') \n",
        "df.head(10)"
      ],
      "execution_count": 32,
      "outputs": [
        {
          "output_type": "execute_result",
          "data": {
            "text/html": [
              "<div>\n",
              "<style scoped>\n",
              "    .dataframe tbody tr th:only-of-type {\n",
              "        vertical-align: middle;\n",
              "    }\n",
              "\n",
              "    .dataframe tbody tr th {\n",
              "        vertical-align: top;\n",
              "    }\n",
              "\n",
              "    .dataframe thead th {\n",
              "        text-align: right;\n",
              "    }\n",
              "</style>\n",
              "<table border=\"1\" class=\"dataframe\">\n",
              "  <thead>\n",
              "    <tr style=\"text-align: right;\">\n",
              "      <th></th>\n",
              "      <th>High</th>\n",
              "      <th>Low</th>\n",
              "      <th>Open</th>\n",
              "      <th>Close</th>\n",
              "      <th>Volume</th>\n",
              "      <th>Adj Close</th>\n",
              "    </tr>\n",
              "    <tr>\n",
              "      <th>Date</th>\n",
              "      <th></th>\n",
              "      <th></th>\n",
              "      <th></th>\n",
              "      <th></th>\n",
              "      <th></th>\n",
              "      <th></th>\n",
              "    </tr>\n",
              "  </thead>\n",
              "  <tbody>\n",
              "    <tr>\n",
              "      <th>2007-01-03</th>\n",
              "      <td>238.568573</td>\n",
              "      <td>230.785782</td>\n",
              "      <td>233.233231</td>\n",
              "      <td>234.029022</td>\n",
              "      <td>15397500.0</td>\n",
              "      <td>234.029022</td>\n",
              "    </tr>\n",
              "    <tr>\n",
              "      <th>2007-01-04</th>\n",
              "      <td>242.217224</td>\n",
              "      <td>234.409409</td>\n",
              "      <td>234.734741</td>\n",
              "      <td>241.871872</td>\n",
              "      <td>15759400.0</td>\n",
              "      <td>241.871872</td>\n",
              "    </tr>\n",
              "    <tr>\n",
              "      <th>2007-01-05</th>\n",
              "      <td>243.993988</td>\n",
              "      <td>239.294296</td>\n",
              "      <td>241.491486</td>\n",
              "      <td>243.838837</td>\n",
              "      <td>13730400.0</td>\n",
              "      <td>243.838837</td>\n",
              "    </tr>\n",
              "    <tr>\n",
              "      <th>2007-01-08</th>\n",
              "      <td>245.180176</td>\n",
              "      <td>241.341339</td>\n",
              "      <td>244.089096</td>\n",
              "      <td>242.032028</td>\n",
              "      <td>9499200.0</td>\n",
              "      <td>242.032028</td>\n",
              "    </tr>\n",
              "    <tr>\n",
              "      <th>2007-01-09</th>\n",
              "      <td>244.369370</td>\n",
              "      <td>240.840836</td>\n",
              "      <td>242.967972</td>\n",
              "      <td>242.992996</td>\n",
              "      <td>10752000.0</td>\n",
              "      <td>242.992996</td>\n",
              "    </tr>\n",
              "    <tr>\n",
              "      <th>2007-01-10</th>\n",
              "      <td>247.022018</td>\n",
              "      <td>241.261261</td>\n",
              "      <td>242.457458</td>\n",
              "      <td>244.974976</td>\n",
              "      <td>11925000.0</td>\n",
              "      <td>244.974976</td>\n",
              "    </tr>\n",
              "    <tr>\n",
              "      <th>2007-01-11</th>\n",
              "      <td>251.126129</td>\n",
              "      <td>248.338333</td>\n",
              "      <td>248.848846</td>\n",
              "      <td>250.110107</td>\n",
              "      <td>14401900.0</td>\n",
              "      <td>250.110107</td>\n",
              "    </tr>\n",
              "    <tr>\n",
              "      <th>2007-01-12</th>\n",
              "      <td>252.752747</td>\n",
              "      <td>250.250244</td>\n",
              "      <td>251.246246</td>\n",
              "      <td>252.752747</td>\n",
              "      <td>8938400.0</td>\n",
              "      <td>252.752747</td>\n",
              "    </tr>\n",
              "    <tr>\n",
              "      <th>2007-01-16</th>\n",
              "      <td>256.756744</td>\n",
              "      <td>251.901901</td>\n",
              "      <td>254.029022</td>\n",
              "      <td>252.392395</td>\n",
              "      <td>15122600.0</td>\n",
              "      <td>252.392395</td>\n",
              "    </tr>\n",
              "    <tr>\n",
              "      <th>2007-01-17</th>\n",
              "      <td>254.139145</td>\n",
              "      <td>247.437439</td>\n",
              "      <td>251.946945</td>\n",
              "      <td>248.888885</td>\n",
              "      <td>13384800.0</td>\n",
              "      <td>248.888885</td>\n",
              "    </tr>\n",
              "  </tbody>\n",
              "</table>\n",
              "</div>"
            ],
            "text/plain": [
              "                  High         Low  ...      Volume   Adj Close\n",
              "Date                                ...                        \n",
              "2007-01-03  238.568573  230.785782  ...  15397500.0  234.029022\n",
              "2007-01-04  242.217224  234.409409  ...  15759400.0  241.871872\n",
              "2007-01-05  243.993988  239.294296  ...  13730400.0  243.838837\n",
              "2007-01-08  245.180176  241.341339  ...   9499200.0  242.032028\n",
              "2007-01-09  244.369370  240.840836  ...  10752000.0  242.992996\n",
              "2007-01-10  247.022018  241.261261  ...  11925000.0  244.974976\n",
              "2007-01-11  251.126129  248.338333  ...  14401900.0  250.110107\n",
              "2007-01-12  252.752747  250.250244  ...   8938400.0  252.752747\n",
              "2007-01-16  256.756744  251.901901  ...  15122600.0  252.392395\n",
              "2007-01-17  254.139145  247.437439  ...  13384800.0  248.888885\n",
              "\n",
              "[10 rows x 6 columns]"
            ]
          },
          "metadata": {
            "tags": []
          },
          "execution_count": 32
        }
      ]
    },
    {
      "cell_type": "code",
      "metadata": {
        "id": "dHLlorOmCZb6",
        "colab_type": "code",
        "outputId": "1d9ac879-b990-4033-80b9-c3da176db496",
        "colab": {
          "base_uri": "https://localhost:8080/",
          "height": 297
        }
      },
      "source": [
        "df.describe()"
      ],
      "execution_count": 33,
      "outputs": [
        {
          "output_type": "execute_result",
          "data": {
            "text/html": [
              "<div>\n",
              "<style scoped>\n",
              "    .dataframe tbody tr th:only-of-type {\n",
              "        vertical-align: middle;\n",
              "    }\n",
              "\n",
              "    .dataframe tbody tr th {\n",
              "        vertical-align: top;\n",
              "    }\n",
              "\n",
              "    .dataframe thead th {\n",
              "        text-align: right;\n",
              "    }\n",
              "</style>\n",
              "<table border=\"1\" class=\"dataframe\">\n",
              "  <thead>\n",
              "    <tr style=\"text-align: right;\">\n",
              "      <th></th>\n",
              "      <th>High</th>\n",
              "      <th>Low</th>\n",
              "      <th>Open</th>\n",
              "      <th>Close</th>\n",
              "      <th>Volume</th>\n",
              "      <th>Adj Close</th>\n",
              "    </tr>\n",
              "  </thead>\n",
              "  <tbody>\n",
              "    <tr>\n",
              "      <th>count</th>\n",
              "      <td>3361.000000</td>\n",
              "      <td>3361.000000</td>\n",
              "      <td>3361.000000</td>\n",
              "      <td>3361.000000</td>\n",
              "      <td>3.361000e+03</td>\n",
              "      <td>3361.000000</td>\n",
              "    </tr>\n",
              "    <tr>\n",
              "      <th>mean</th>\n",
              "      <td>582.672354</td>\n",
              "      <td>571.822391</td>\n",
              "      <td>577.442020</td>\n",
              "      <td>577.405672</td>\n",
              "      <td>4.888180e+06</td>\n",
              "      <td>577.405672</td>\n",
              "    </tr>\n",
              "    <tr>\n",
              "      <th>std</th>\n",
              "      <td>358.527156</td>\n",
              "      <td>352.265274</td>\n",
              "      <td>355.408565</td>\n",
              "      <td>355.606940</td>\n",
              "      <td>4.500720e+06</td>\n",
              "      <td>355.606940</td>\n",
              "    </tr>\n",
              "    <tr>\n",
              "      <th>min</th>\n",
              "      <td>134.819824</td>\n",
              "      <td>123.773773</td>\n",
              "      <td>131.386383</td>\n",
              "      <td>128.848846</td>\n",
              "      <td>5.206000e+05</td>\n",
              "      <td>128.848846</td>\n",
              "    </tr>\n",
              "    <tr>\n",
              "      <th>25%</th>\n",
              "      <td>279.144135</td>\n",
              "      <td>272.197205</td>\n",
              "      <td>275.655670</td>\n",
              "      <td>275.535522</td>\n",
              "      <td>1.734100e+06</td>\n",
              "      <td>275.535522</td>\n",
              "    </tr>\n",
              "    <tr>\n",
              "      <th>50%</th>\n",
              "      <td>449.674683</td>\n",
              "      <td>443.533539</td>\n",
              "      <td>447.697693</td>\n",
              "      <td>446.976990</td>\n",
              "      <td>3.595600e+06</td>\n",
              "      <td>446.976990</td>\n",
              "    </tr>\n",
              "    <tr>\n",
              "      <th>75%</th>\n",
              "      <td>828.469971</td>\n",
              "      <td>817.000000</td>\n",
              "      <td>823.130005</td>\n",
              "      <td>821.630005</td>\n",
              "      <td>6.253100e+06</td>\n",
              "      <td>821.630005</td>\n",
              "    </tr>\n",
              "    <tr>\n",
              "      <th>max</th>\n",
              "      <td>1530.739990</td>\n",
              "      <td>1520.979980</td>\n",
              "      <td>1527.199951</td>\n",
              "      <td>1524.869995</td>\n",
              "      <td>4.652800e+07</td>\n",
              "      <td>1524.869995</td>\n",
              "    </tr>\n",
              "  </tbody>\n",
              "</table>\n",
              "</div>"
            ],
            "text/plain": [
              "              High          Low  ...        Volume    Adj Close\n",
              "count  3361.000000  3361.000000  ...  3.361000e+03  3361.000000\n",
              "mean    582.672354   571.822391  ...  4.888180e+06   577.405672\n",
              "std     358.527156   352.265274  ...  4.500720e+06   355.606940\n",
              "min     134.819824   123.773773  ...  5.206000e+05   128.848846\n",
              "25%     279.144135   272.197205  ...  1.734100e+06   275.535522\n",
              "50%     449.674683   443.533539  ...  3.595600e+06   446.976990\n",
              "75%     828.469971   817.000000  ...  6.253100e+06   821.630005\n",
              "max    1530.739990  1520.979980  ...  4.652800e+07  1524.869995\n",
              "\n",
              "[8 rows x 6 columns]"
            ]
          },
          "metadata": {
            "tags": []
          },
          "execution_count": 33
        }
      ]
    },
    {
      "cell_type": "code",
      "metadata": {
        "id": "YP3fntuYCf9j",
        "colab_type": "code",
        "outputId": "5e8a9036-3cb1-49f0-d152-02c68f9e08fd",
        "colab": {
          "base_uri": "https://localhost:8080/",
          "height": 34
        }
      },
      "source": [
        "print(df.shape)"
      ],
      "execution_count": 34,
      "outputs": [
        {
          "output_type": "stream",
          "text": [
            "(3361, 6)\n"
          ],
          "name": "stdout"
        }
      ]
    },
    {
      "cell_type": "code",
      "metadata": {
        "id": "JR9XNe5fCisk",
        "colab_type": "code",
        "outputId": "fc7dadb3-aa9c-4277-92bd-4de196f0542c",
        "colab": {
          "base_uri": "https://localhost:8080/",
          "height": 521
        }
      },
      "source": [
        "# Visualize the closing price history.\n",
        "plt.figure(figsize=(16,8))\n",
        "plt.title('Close Price History')\n",
        "plt.plot(df['Close'], color='b')\n",
        "plt.xlabel('Date',fontsize=18)\n",
        "plt.ylabel('Close Price (USD)',fontsize=18)\n",
        "plt.show()"
      ],
      "execution_count": 35,
      "outputs": [
        {
          "output_type": "display_data",
          "data": {
            "image/png": "[encoded data removed]",
            "text/plain": [
              "<Figure size 1152x576 with 1 Axes>"
            ]
          },
          "metadata": {
            "tags": [],
            "needs_background": "light"
          }
        }
      ]
    },
    {
      "cell_type": "code",
      "metadata": {
        "id": "nfH7O56CE961",
        "colab_type": "code",
        "colab": {}
      },
      "source": [
        "# Create a new dataframe with only the 'Close' column.\n",
        "data = df.filter(['Close'])\n",
        "# Converting the dataframe to a numpy array.\n",
        "dataset = data.values\n",
        "# Compute the number of rows to train the model on.\n",
        "training_data_len = math.ceil( len(dataset) *.8) "
      ],
      "execution_count": 0,
      "outputs": []
    },
    {
      "cell_type": "code",
      "metadata": {
        "id": "t6k0JL63C6JL",
        "colab_type": "code",
        "colab": {}
      },
      "source": [
        "# Min-Max Normalization.\n",
        "scaler = MinMaxScaler(feature_range=(0, 1)) \n",
        "scaled_data = scaler.fit_transform(dataset)"
      ],
      "execution_count": 0,
      "outputs": []
    },
    {
      "cell_type": "code",
      "metadata": {
        "id": "OPJytQtrDv09",
        "colab_type": "code",
        "colab": {}
      },
      "source": [
        "# Create the scaled training dataset.\n",
        "train_data = scaled_data[0:training_data_len, :]\n",
        "\n",
        "# Split the data into X_train and y_train data sets\n",
        "X_train=[]\n",
        "y_train = []\n",
        "for i in range(60,len(train_data)):\n",
        "    X_train.append(train_data[i-60:i,0])\n",
        "    y_train.append(train_data[i,0])"
      ],
      "execution_count": 0,
      "outputs": []
    },
    {
      "cell_type": "code",
      "metadata": {
        "id": "F150ukYNE2NL",
        "colab_type": "code",
        "colab": {}
      },
      "source": [
        "# Convert x_train and y_train to numpy arrays.\n",
        "X_train, y_train = np.array(X_train), np.array(y_train)"
      ],
      "execution_count": 0,
      "outputs": []
    },
    {
      "cell_type": "code",
      "metadata": {
        "id": "oe6Cctx7Fv3h",
        "colab_type": "code",
        "colab": {}
      },
      "source": [
        "# Reshape the data into the shape accepted by the LSTM.\n",
        "X_train = np.reshape(X_train, (X_train.shape[0],X_train.shape[1],1))"
      ],
      "execution_count": 0,
      "outputs": []
    },
    {
      "cell_type": "code",
      "metadata": {
        "id": "2MhRGAxsF845",
        "colab_type": "code",
        "outputId": "903320c6-192e-4506-c82f-b722e9d424f5",
        "colab": {
          "base_uri": "https://localhost:8080/",
          "height": 289
        }
      },
      "source": [
        "# Build the LSTM network model.\n",
        "model = Sequential()\n",
        "model.add(LSTM(units=50, return_sequences=True, input_shape=(X_train.shape[1],1)))\n",
        "model.add(LSTM(units=50, return_sequences=False))\n",
        "model.add(Dense(units=25))\n",
        "model.add(Dense(units=1))\n",
        "model.summary()"
      ],
      "execution_count": 41,
      "outputs": [
        {
          "output_type": "stream",
          "text": [
            "Model: \"sequential_2\"\n",
            "_________________________________________________________________\n",
            "Layer (type)                 Output Shape              Param #   \n",
            "=================================================================\n",
            "lstm_3 (LSTM)                (None, 60, 50)            10400     \n",
            "_________________________________________________________________\n",
            "lstm_4 (LSTM)                (None, 50)                20200     \n",
            "_________________________________________________________________\n",
            "dense_3 (Dense)              (None, 25)                1275      \n",
            "_________________________________________________________________\n",
            "dense_4 (Dense)              (None, 1)                 26        \n",
            "=================================================================\n",
            "Total params: 31,901\n",
            "Trainable params: 31,901\n",
            "Non-trainable params: 0\n",
            "_________________________________________________________________\n"
          ],
          "name": "stdout"
        }
      ]
    },
    {
      "cell_type": "code",
      "metadata": {
        "id": "de5rG7OHJjk6",
        "colab_type": "code",
        "outputId": "256d0eb4-ea04-486b-a170-f495edbd381c",
        "colab": {
          "base_uri": "https://localhost:8080/",
          "height": 533
        }
      },
      "source": [
        "# Visualize.\n",
        "from keras.utils import plot_model\n",
        "plot_model(model, show_shapes=True)"
      ],
      "execution_count": 42,
      "outputs": [
        {
          "output_type": "execute_result",
          "data": {
            "image/png": "[encoded data removed]",
            "text/plain": [
              "<IPython.core.display.Image object>"
            ]
          },
          "metadata": {
            "tags": []
          },
          "execution_count": 42
        }
      ]
    },
    {
      "cell_type": "code",
      "metadata": {
        "id": "TzZJRM7pJp7-",
        "colab_type": "code",
        "colab": {}
      },
      "source": [
        "# Compile the model.\n",
        "model.compile(optimizer='adam', loss='mean_squared_error')"
      ],
      "execution_count": 0,
      "outputs": []
    },
    {
      "cell_type": "code",
      "metadata": {
        "id": "eE1PxBZwJucC",
        "colab_type": "code",
        "outputId": "cc50846f-16b9-412c-e87f-ac262c9049d3",
        "colab": {
          "base_uri": "https://localhost:8080/",
          "height": 68
        }
      },
      "source": [
        "# Train the model.\n",
        "model.fit(X_train, y_train, batch_size=1, epochs=1)"
      ],
      "execution_count": 44,
      "outputs": [
        {
          "output_type": "stream",
          "text": [
            "Epoch 1/1\n",
            "2629/2629 [==============================] - 99s 38ms/step - loss: 5.0885e-04\n"
          ],
          "name": "stdout"
        },
        {
          "output_type": "execute_result",
          "data": {
            "text/plain": [
              "<keras.callbacks.callbacks.History at 0x7f23421e0470>"
            ]
          },
          "metadata": {
            "tags": []
          },
          "execution_count": 44
        }
      ]
    },
    {
      "cell_type": "code",
      "metadata": {
        "id": "snlbZsaoJ0XL",
        "colab_type": "code",
        "colab": {}
      },
      "source": [
        "# Test dataset.\n",
        "test_data = scaled_data[training_data_len-60:, :]\n",
        "\n",
        "# Create the x_test and y_test datasets.\n",
        "X_test = []\n",
        "y_test =  dataset[training_data_len:, :]\n",
        "for i in range(60,len(test_data)):\n",
        "    X_test.append(test_data[i-60:i, 0])"
      ],
      "execution_count": 0,
      "outputs": []
    },
    {
      "cell_type": "code",
      "metadata": {
        "id": "29fEVTDJKX8v",
        "colab_type": "code",
        "colab": {}
      },
      "source": [
        "# Convert x_test to a numpy array.\n",
        "X_test = np.array(X_test)"
      ],
      "execution_count": 0,
      "outputs": []
    },
    {
      "cell_type": "code",
      "metadata": {
        "id": "foRF2TfzKdBH",
        "colab_type": "code",
        "colab": {}
      },
      "source": [
        "# Reshape the data into the shape accepted by the LSTM.\n",
        "X_test = np.reshape(X_test, (X_test.shape[0], X_test.shape[1], 1))"
      ],
      "execution_count": 0,
      "outputs": []
    },
    {
      "cell_type": "code",
      "metadata": {
        "id": "1wMJXm_XKmNB",
        "colab_type": "code",
        "colab": {}
      },
      "source": [
        "# Getting the models predicted price values.\n",
        "predictions = model.predict(X_test)\n",
        "predictions = scaler.inverse_transform(predictions) #Undo scaling"
      ],
      "execution_count": 0,
      "outputs": []
    },
    {
      "cell_type": "code",
      "metadata": {
        "id": "I6JsFrupKsaG",
        "colab_type": "code",
        "outputId": "fe3d639d-b496-456d-f7c1-a3dc9ecf34ad",
        "colab": {
          "base_uri": "https://localhost:8080/",
          "height": 34
        }
      },
      "source": [
        "# Calculate/Get the value of RMSE.\n",
        "rmse = np.sqrt(np.mean(((predictions- y_test)**2)))\n",
        "rmse"
      ],
      "execution_count": 49,
      "outputs": [
        {
          "output_type": "execute_result",
          "data": {
            "text/plain": [
              "36.21032497337663"
            ]
          },
          "metadata": {
            "tags": []
          },
          "execution_count": 49
        }
      ]
    },
    {
      "cell_type": "code",
      "metadata": {
        "id": "RWEYpkvYKv2c",
        "colab_type": "code",
        "outputId": "f1801e39-4d7c-4afa-89a0-8ee90420d2e1",
        "colab": {
          "base_uri": "https://localhost:8080/",
          "height": 119
        }
      },
      "source": [
        "# Plot/Create the data for the graph.\n",
        "train = data[:training_data_len]\n",
        "valid = data[training_data_len:]\n",
        "valid['Predictions'] = predictions"
      ],
      "execution_count": 50,
      "outputs": [
        {
          "output_type": "stream",
          "text": [
            "/usr/local/lib/python3.6/dist-packages/ipykernel_launcher.py:3: SettingWithCopyWarning: \n",
            "A value is trying to be set on a copy of a slice from a DataFrame.\n",
            "Try using .loc[row_indexer,col_indexer] = value instead\n",
            "\n",
            "See the caveats in the documentation: https://pandas.pydata.org/pandas-docs/stable/user_guide/indexing.html#returning-a-view-versus-a-copy\n",
            "  This is separate from the ipykernel package so we can avoid doing imports until\n"
          ],
          "name": "stderr"
        }
      ]
    },
    {
      "cell_type": "code",
      "metadata": {
        "id": "YimyRLW8K3f_",
        "colab_type": "code",
        "outputId": "b893ac76-205d-4113-e61e-cce837ca2c8d",
        "colab": {
          "base_uri": "https://localhost:8080/",
          "height": 521
        }
      },
      "source": [
        "# Visualize the data.\n",
        "plt.figure(figsize=(16,8))\n",
        "plt.title('Model')\n",
        "plt.xlabel('Date', fontsize=18)\n",
        "plt.ylabel('Close Price (USD)', fontsize=18)\n",
        "plt.plot(train['Close'])\n",
        "plt.plot(valid[['Close', 'Predictions']])\n",
        "plt.legend(['Train', 'Val', 'Predictions'], loc='lower right')\n",
        "plt.show()"
      ],
      "execution_count": 51,
      "outputs": [
        {
          "output_type": "display_data",
          "data": {
            "image/png": "[encoded data removed]",
            "text/plain": [
              "<Figure size 1152x576 with 1 Axes>"
            ]
          },
          "metadata": {
            "tags": [],
            "needs_background": "light"
          }
        }
      ]
    },
    {
      "cell_type": "code",
      "metadata": {
        "id": "yi-Hn6OAK_NA",
        "colab_type": "code",
        "outputId": "1fe37428-9a1e-4e34-a3cb-c3b735780b8b",
        "colab": {
          "base_uri": "https://localhost:8080/",
          "height": 450
        }
      },
      "source": [
        "# Show the valid and predicted prices.\n",
        "valid"
      ],
      "execution_count": 52,
      "outputs": [
        {
          "output_type": "execute_result",
          "data": {
            "text/html": [
              "<div>\n",
              "<style scoped>\n",
              "    .dataframe tbody tr th:only-of-type {\n",
              "        vertical-align: middle;\n",
              "    }\n",
              "\n",
              "    .dataframe tbody tr th {\n",
              "        vertical-align: top;\n",
              "    }\n",
              "\n",
              "    .dataframe thead th {\n",
              "        text-align: right;\n",
              "    }\n",
              "</style>\n",
              "<table border=\"1\" class=\"dataframe\">\n",
              "  <thead>\n",
              "    <tr style=\"text-align: right;\">\n",
              "      <th></th>\n",
              "      <th>Close</th>\n",
              "      <th>Predictions</th>\n",
              "    </tr>\n",
              "    <tr>\n",
              "      <th>Date</th>\n",
              "      <th></th>\n",
              "      <th></th>\n",
              "    </tr>\n",
              "  </thead>\n",
              "  <tbody>\n",
              "    <tr>\n",
              "      <th>2017-09-07</th>\n",
              "      <td>949.890015</td>\n",
              "      <td>944.809326</td>\n",
              "    </tr>\n",
              "    <tr>\n",
              "      <th>2017-09-08</th>\n",
              "      <td>941.409973</td>\n",
              "      <td>945.909424</td>\n",
              "    </tr>\n",
              "    <tr>\n",
              "      <th>2017-09-11</th>\n",
              "      <td>943.289978</td>\n",
              "      <td>946.134033</td>\n",
              "    </tr>\n",
              "    <tr>\n",
              "      <th>2017-09-12</th>\n",
              "      <td>946.650024</td>\n",
              "      <td>946.139343</td>\n",
              "    </tr>\n",
              "    <tr>\n",
              "      <th>2017-09-13</th>\n",
              "      <td>950.440002</td>\n",
              "      <td>946.371277</td>\n",
              "    </tr>\n",
              "    <tr>\n",
              "      <th>...</th>\n",
              "      <td>...</td>\n",
              "      <td>...</td>\n",
              "    </tr>\n",
              "    <tr>\n",
              "      <th>2020-05-04</th>\n",
              "      <td>1322.900024</td>\n",
              "      <td>1272.600708</td>\n",
              "    </tr>\n",
              "    <tr>\n",
              "      <th>2020-05-05</th>\n",
              "      <td>1349.020020</td>\n",
              "      <td>1280.628540</td>\n",
              "    </tr>\n",
              "    <tr>\n",
              "      <th>2020-05-06</th>\n",
              "      <td>1345.430054</td>\n",
              "      <td>1289.731201</td>\n",
              "    </tr>\n",
              "    <tr>\n",
              "      <th>2020-05-07</th>\n",
              "      <td>1369.280029</td>\n",
              "      <td>1297.742065</td>\n",
              "    </tr>\n",
              "    <tr>\n",
              "      <th>2020-05-08</th>\n",
              "      <td>1384.339966</td>\n",
              "      <td>1306.930420</td>\n",
              "    </tr>\n",
              "  </tbody>\n",
              "</table>\n",
              "<p>672 rows × 2 columns</p>\n",
              "</div>"
            ],
            "text/plain": [
              "                  Close  Predictions\n",
              "Date                                \n",
              "2017-09-07   949.890015   944.809326\n",
              "2017-09-08   941.409973   945.909424\n",
              "2017-09-11   943.289978   946.134033\n",
              "2017-09-12   946.650024   946.139343\n",
              "2017-09-13   950.440002   946.371277\n",
              "...                 ...          ...\n",
              "2020-05-04  1322.900024  1272.600708\n",
              "2020-05-05  1349.020020  1280.628540\n",
              "2020-05-06  1345.430054  1289.731201\n",
              "2020-05-07  1369.280029  1297.742065\n",
              "2020-05-08  1384.339966  1306.930420\n",
              "\n",
              "[672 rows x 2 columns]"
            ]
          },
          "metadata": {
            "tags": []
          },
          "execution_count": 52
        }
      ]
    },
    {
      "cell_type": "code",
      "metadata": {
        "id": "P5kW8uuWLdD-",
        "colab_type": "code",
        "colab": {}
      },
      "source": [
        "# Get the quote.\n",
        "apple_quote = web.DataReader('GOOGL', data_source='yahoo', start='2007-01-01', end='2020-08-08')"
      ],
      "execution_count": 0,
      "outputs": []
    },
    {
      "cell_type": "code",
      "metadata": {
        "id": "lCZlfNo4Ls62",
        "colab_type": "code",
        "colab": {}
      },
      "source": [
        "# Create a new dataframe.\n",
        "new_df = apple_quote.filter(['Close'])"
      ],
      "execution_count": 0,
      "outputs": []
    },
    {
      "cell_type": "code",
      "metadata": {
        "id": "EzdgK4qeLwC1",
        "colab_type": "code",
        "colab": {}
      },
      "source": [
        "# Get the last 60 day closing price.\n",
        "last_60_days = new_df[-60:].values"
      ],
      "execution_count": 0,
      "outputs": []
    },
    {
      "cell_type": "code",
      "metadata": {
        "id": "pt71KBNPLygt",
        "colab_type": "code",
        "colab": {}
      },
      "source": [
        "# Scale the data to be values between 0 and 1.\n",
        "last_60_days_scaled = scaler.transform(last_60_days)"
      ],
      "execution_count": 0,
      "outputs": []
    },
    {
      "cell_type": "code",
      "metadata": {
        "id": "20kw6dPeL2S4",
        "colab_type": "code",
        "colab": {}
      },
      "source": [
        "# Create an empty list.\n",
        "X_test = []\n",
        "\n",
        "# Append teh past 60 days.\n",
        "X_test.append(last_60_days_scaled)\n",
        "\n",
        "# Convert the X_test data set to a numpy array.\n",
        "X_test = np.array(X_test)"
      ],
      "execution_count": 0,
      "outputs": []
    },
    {
      "cell_type": "code",
      "metadata": {
        "id": "1Xuiv5OeMA3d",
        "colab_type": "code",
        "colab": {}
      },
      "source": [
        "# Reshape the data.\n",
        "X_test = np.reshape(X_test, (X_test.shape[0], X_test.shape[1], 1))"
      ],
      "execution_count": 0,
      "outputs": []
    },
    {
      "cell_type": "code",
      "metadata": {
        "id": "bKk8nW4rMJWf",
        "colab_type": "code",
        "colab": {}
      },
      "source": [
        "# Get the predicted scaled price.\n",
        "pred_price = model.predict(X_test)"
      ],
      "execution_count": 0,
      "outputs": []
    },
    {
      "cell_type": "code",
      "metadata": {
        "id": "qqOwZ-i1MMJf",
        "colab_type": "code",
        "outputId": "ed7defb8-70cd-451d-f926-4c85f7e17839",
        "colab": {
          "base_uri": "https://localhost:8080/",
          "height": 34
        }
      },
      "source": [
        "# Undo the scaling.\n",
        "pred_price = scaler.inverse_transform(pred_price)\n",
        "print(pred_price)"
      ],
      "execution_count": 60,
      "outputs": [
        {
          "output_type": "stream",
          "text": [
            "[[1317.0579]]\n"
          ],
          "name": "stdout"
        }
      ]
    },
    {
      "cell_type": "code",
      "metadata": {
        "id": "mYMLgtFsMQ-d",
        "colab_type": "code",
        "colab": {}
      },
      "source": [
        ""
      ],
      "execution_count": 0,
      "outputs": []
    }
  ]
}