{
  "nbformat": 4,
  "nbformat_minor": 0,
  "metadata": {
    "colab": {
      "name": "Apple_Stock_Price_Prediction.ipynb",
      "provenance": [],
      "collapsed_sections": []
    },
    "kernelspec": {
      "name": "python3",
      "display_name": "Python 3"
    }
  },
  "cells": [
    {
      "cell_type": "code",
      "metadata": {
        "id": "jeGi3li3B2UN",
        "colab_type": "code",
        "colab": {}
      },
      "source": [
        "# Import the machine learning libraries.\n",
        "import math\n",
        "import pandas_datareader as web\n",
        "import numpy as np\n",
        "import pandas as pd\n",
        "from sklearn.preprocessing import MinMaxScaler\n",
        "from keras.models import Sequential\n",
        "from keras.layers import Dense, LSTM\n",
        "import matplotlib.pyplot as plt"
      ],
      "execution_count": 0,
      "outputs": []
    },
    {
      "cell_type": "code",
      "metadata": {
        "id": "PyKejkRECK6l",
        "colab_type": "code",
        "colab": {
          "base_uri": "https://localhost:8080/",
          "height": 390
        },
        "outputId": "6ddae4e4-31ff-4c11-fb6a-1128b6cc5706"
      },
      "source": [
        "# Get the stock quote of Apple Inc.\n",
        "df = web.DataReader('AAPL', data_source='yahoo', start='2007-01-01', end='2020-08-08') \n",
        "df.head(10)"
      ],
      "execution_count": 117,
      "outputs": [
        {
          "output_type": "execute_result",
          "data": {
            "text/html": [
              "<div>\n",
              "<style scoped>\n",
              "    .dataframe tbody tr th:only-of-type {\n",
              "        vertical-align: middle;\n",
              "    }\n",
              "\n",
              "    .dataframe tbody tr th {\n",
              "        vertical-align: top;\n",
              "    }\n",
              "\n",
              "    .dataframe thead th {\n",
              "        text-align: right;\n",
              "    }\n",
              "</style>\n",
              "<table border=\"1\" class=\"dataframe\">\n",
              "  <thead>\n",
              "    <tr style=\"text-align: right;\">\n",
              "      <th></th>\n",
              "      <th>High</th>\n",
              "      <th>Low</th>\n",
              "      <th>Open</th>\n",
              "      <th>Close</th>\n",
              "      <th>Volume</th>\n",
              "      <th>Adj Close</th>\n",
              "    </tr>\n",
              "    <tr>\n",
              "      <th>Date</th>\n",
              "      <th></th>\n",
              "      <th></th>\n",
              "      <th></th>\n",
              "      <th></th>\n",
              "      <th></th>\n",
              "      <th></th>\n",
              "    </tr>\n",
              "  </thead>\n",
              "  <tbody>\n",
              "    <tr>\n",
              "      <th>2007-01-03</th>\n",
              "      <td>12.368571</td>\n",
              "      <td>11.700000</td>\n",
              "      <td>12.327143</td>\n",
              "      <td>11.971429</td>\n",
              "      <td>309579900.0</td>\n",
              "      <td>10.363638</td>\n",
              "    </tr>\n",
              "    <tr>\n",
              "      <th>2007-01-04</th>\n",
              "      <td>12.278571</td>\n",
              "      <td>11.974286</td>\n",
              "      <td>12.007143</td>\n",
              "      <td>12.237143</td>\n",
              "      <td>211815100.0</td>\n",
              "      <td>10.593664</td>\n",
              "    </tr>\n",
              "    <tr>\n",
              "      <th>2007-01-05</th>\n",
              "      <td>12.314285</td>\n",
              "      <td>12.057143</td>\n",
              "      <td>12.252857</td>\n",
              "      <td>12.150000</td>\n",
              "      <td>208685400.0</td>\n",
              "      <td>10.518225</td>\n",
              "    </tr>\n",
              "    <tr>\n",
              "      <th>2007-01-08</th>\n",
              "      <td>12.361428</td>\n",
              "      <td>12.182858</td>\n",
              "      <td>12.280000</td>\n",
              "      <td>12.210000</td>\n",
              "      <td>199276700.0</td>\n",
              "      <td>10.570165</td>\n",
              "    </tr>\n",
              "    <tr>\n",
              "      <th>2007-01-09</th>\n",
              "      <td>13.282857</td>\n",
              "      <td>12.164286</td>\n",
              "      <td>12.350000</td>\n",
              "      <td>13.224286</td>\n",
              "      <td>837324600.0</td>\n",
              "      <td>11.448232</td>\n",
              "    </tr>\n",
              "    <tr>\n",
              "      <th>2007-01-10</th>\n",
              "      <td>13.971429</td>\n",
              "      <td>13.350000</td>\n",
              "      <td>13.535714</td>\n",
              "      <td>13.857142</td>\n",
              "      <td>738220000.0</td>\n",
              "      <td>11.996092</td>\n",
              "    </tr>\n",
              "    <tr>\n",
              "      <th>2007-01-11</th>\n",
              "      <td>13.825714</td>\n",
              "      <td>13.585714</td>\n",
              "      <td>13.705714</td>\n",
              "      <td>13.685715</td>\n",
              "      <td>360063200.0</td>\n",
              "      <td>11.847687</td>\n",
              "    </tr>\n",
              "    <tr>\n",
              "      <th>2007-01-12</th>\n",
              "      <td>13.580000</td>\n",
              "      <td>13.318571</td>\n",
              "      <td>13.512857</td>\n",
              "      <td>13.517143</td>\n",
              "      <td>328172600.0</td>\n",
              "      <td>11.701755</td>\n",
              "    </tr>\n",
              "    <tr>\n",
              "      <th>2007-01-16</th>\n",
              "      <td>13.892858</td>\n",
              "      <td>13.635715</td>\n",
              "      <td>13.668571</td>\n",
              "      <td>13.871428</td>\n",
              "      <td>311019100.0</td>\n",
              "      <td>12.008460</td>\n",
              "    </tr>\n",
              "    <tr>\n",
              "      <th>2007-01-17</th>\n",
              "      <td>13.942857</td>\n",
              "      <td>13.545714</td>\n",
              "      <td>13.937143</td>\n",
              "      <td>13.564285</td>\n",
              "      <td>411565000.0</td>\n",
              "      <td>11.742566</td>\n",
              "    </tr>\n",
              "  </tbody>\n",
              "</table>\n",
              "</div>"
            ],
            "text/plain": [
              "                 High        Low       Open      Close       Volume  Adj Close\n",
              "Date                                                                          \n",
              "2007-01-03  12.368571  11.700000  12.327143  11.971429  309579900.0  10.363638\n",
              "2007-01-04  12.278571  11.974286  12.007143  12.237143  211815100.0  10.593664\n",
              "2007-01-05  12.314285  12.057143  12.252857  12.150000  208685400.0  10.518225\n",
              "2007-01-08  12.361428  12.182858  12.280000  12.210000  199276700.0  10.570165\n",
              "2007-01-09  13.282857  12.164286  12.350000  13.224286  837324600.0  11.448232\n",
              "2007-01-10  13.971429  13.350000  13.535714  13.857142  738220000.0  11.996092\n",
              "2007-01-11  13.825714  13.585714  13.705714  13.685715  360063200.0  11.847687\n",
              "2007-01-12  13.580000  13.318571  13.512857  13.517143  328172600.0  11.701755\n",
              "2007-01-16  13.892858  13.635715  13.668571  13.871428  311019100.0  12.008460\n",
              "2007-01-17  13.942857  13.545714  13.937143  13.564285  411565000.0  11.742566"
            ]
          },
          "metadata": {
            "tags": []
          },
          "execution_count": 117
        }
      ]
    },
    {
      "cell_type": "code",
      "metadata": {
        "id": "dHLlorOmCZb6",
        "colab_type": "code",
        "colab": {
          "base_uri": "https://localhost:8080/",
          "height": 297
        },
        "outputId": "3b4392e6-3959-43e0-e8eb-9eb3e56c708a"
      },
      "source": [
        "df.describe()"
      ],
      "execution_count": 118,
      "outputs": [
        {
          "output_type": "execute_result",
          "data": {
            "text/html": [
              "<div>\n",
              "<style scoped>\n",
              "    .dataframe tbody tr th:only-of-type {\n",
              "        vertical-align: middle;\n",
              "    }\n",
              "\n",
              "    .dataframe tbody tr th {\n",
              "        vertical-align: top;\n",
              "    }\n",
              "\n",
              "    .dataframe thead th {\n",
              "        text-align: right;\n",
              "    }\n",
              "</style>\n",
              "<table border=\"1\" class=\"dataframe\">\n",
              "  <thead>\n",
              "    <tr style=\"text-align: right;\">\n",
              "      <th></th>\n",
              "      <th>High</th>\n",
              "      <th>Low</th>\n",
              "      <th>Open</th>\n",
              "      <th>Close</th>\n",
              "      <th>Volume</th>\n",
              "      <th>Adj Close</th>\n",
              "    </tr>\n",
              "  </thead>\n",
              "  <tbody>\n",
              "    <tr>\n",
              "      <th>count</th>\n",
              "      <td>3361.000000</td>\n",
              "      <td>3361.000000</td>\n",
              "      <td>3361.000000</td>\n",
              "      <td>3361.000000</td>\n",
              "      <td>3.361000e+03</td>\n",
              "      <td>3361.000000</td>\n",
              "    </tr>\n",
              "    <tr>\n",
              "      <th>mean</th>\n",
              "      <td>95.629206</td>\n",
              "      <td>93.761418</td>\n",
              "      <td>94.689356</td>\n",
              "      <td>94.733019</td>\n",
              "      <td>1.075886e+08</td>\n",
              "      <td>89.008748</td>\n",
              "    </tr>\n",
              "    <tr>\n",
              "      <th>std</th>\n",
              "      <td>70.156925</td>\n",
              "      <td>68.796011</td>\n",
              "      <td>69.397205</td>\n",
              "      <td>69.531462</td>\n",
              "      <td>9.664071e+07</td>\n",
              "      <td>69.676407</td>\n",
              "    </tr>\n",
              "    <tr>\n",
              "      <th>min</th>\n",
              "      <td>11.714286</td>\n",
              "      <td>11.171429</td>\n",
              "      <td>11.341429</td>\n",
              "      <td>11.171429</td>\n",
              "      <td>1.136200e+07</td>\n",
              "      <td>9.671075</td>\n",
              "    </tr>\n",
              "    <tr>\n",
              "      <th>25%</th>\n",
              "      <td>35.715714</td>\n",
              "      <td>34.641430</td>\n",
              "      <td>35.290001</td>\n",
              "      <td>35.114285</td>\n",
              "      <td>3.558340e+07</td>\n",
              "      <td>30.398338</td>\n",
              "    </tr>\n",
              "    <tr>\n",
              "      <th>50%</th>\n",
              "      <td>81.824287</td>\n",
              "      <td>80.175713</td>\n",
              "      <td>81.272858</td>\n",
              "      <td>81.128571</td>\n",
              "      <td>7.716520e+07</td>\n",
              "      <td>70.985245</td>\n",
              "    </tr>\n",
              "    <tr>\n",
              "      <th>75%</th>\n",
              "      <td>130.630005</td>\n",
              "      <td>128.360001</td>\n",
              "      <td>129.580002</td>\n",
              "      <td>129.619995</td>\n",
              "      <td>1.485015e+08</td>\n",
              "      <td>119.696228</td>\n",
              "    </tr>\n",
              "    <tr>\n",
              "      <th>max</th>\n",
              "      <td>327.850006</td>\n",
              "      <td>323.350006</td>\n",
              "      <td>324.739990</td>\n",
              "      <td>327.200012</td>\n",
              "      <td>8.432424e+08</td>\n",
              "      <td>326.316681</td>\n",
              "    </tr>\n",
              "  </tbody>\n",
              "</table>\n",
              "</div>"
            ],
            "text/plain": [
              "              High          Low  ...        Volume    Adj Close\n",
              "count  3361.000000  3361.000000  ...  3.361000e+03  3361.000000\n",
              "mean     95.629206    93.761418  ...  1.075886e+08    89.008748\n",
              "std      70.156925    68.796011  ...  9.664071e+07    69.676407\n",
              "min      11.714286    11.171429  ...  1.136200e+07     9.671075\n",
              "25%      35.715714    34.641430  ...  3.558340e+07    30.398338\n",
              "50%      81.824287    80.175713  ...  7.716520e+07    70.985245\n",
              "75%     130.630005   128.360001  ...  1.485015e+08   119.696228\n",
              "max     327.850006   323.350006  ...  8.432424e+08   326.316681\n",
              "\n",
              "[8 rows x 6 columns]"
            ]
          },
          "metadata": {
            "tags": []
          },
          "execution_count": 118
        }
      ]
    },
    {
      "cell_type": "code",
      "metadata": {
        "id": "YP3fntuYCf9j",
        "colab_type": "code",
        "colab": {
          "base_uri": "https://localhost:8080/",
          "height": 34
        },
        "outputId": "98324cbc-df57-4257-e6fb-2b57aa141b24"
      },
      "source": [
        "print(df.shape)"
      ],
      "execution_count": 119,
      "outputs": [
        {
          "output_type": "stream",
          "text": [
            "(3361, 6)\n"
          ],
          "name": "stdout"
        }
      ]
    },
    {
      "cell_type": "code",
      "metadata": {
        "id": "JR9XNe5fCisk",
        "colab_type": "code",
        "colab": {
          "base_uri": "https://localhost:8080/",
          "height": 521
        },
        "outputId": "cb330281-c386-4cbd-c200-99bcf61b176e"
      },
      "source": [
        "# Visualize the closing price history.\n",
        "plt.figure(figsize=(16,8))\n",
        "plt.title('Close Price History')\n",
        "plt.plot(df['Close'], color='b')\n",
        "plt.xlabel('Date',fontsize=18)\n",
        "plt.ylabel('Close Price (USD)',fontsize=18)\n",
        "plt.show()"
      ],
      "execution_count": 120,
      "outputs": [
        {
          "output_type": "display_data",
          "data": {
            "image/png": "[encoded data removed]",
            "text/plain": [
              "<Figure size 1152x576 with 1 Axes>"
            ]
          },
          "metadata": {
            "tags": [],
            "needs_background": "light"
          }
        }
      ]
    },
    {
      "cell_type": "code",
      "metadata": {
        "id": "nfH7O56CE961",
        "colab_type": "code",
        "colab": {}
      },
      "source": [
        "# Create a new dataframe with only the 'Close' column.\n",
        "data = df.filter(['Close'])\n",
        "# Converting the dataframe to a numpy array.\n",
        "dataset = data.values\n",
        "# Compute the number of rows to train the model on.\n",
        "training_data_len = math.ceil( len(dataset) *.8) "
      ],
      "execution_count": 0,
      "outputs": []
    },
    {
      "cell_type": "code",
      "metadata": {
        "id": "t6k0JL63C6JL",
        "colab_type": "code",
        "colab": {}
      },
      "source": [
        "# Min-Max Normalization.\n",
        "scaler = MinMaxScaler(feature_range=(0, 1)) \n",
        "scaled_data = scaler.fit_transform(dataset)"
      ],
      "execution_count": 0,
      "outputs": []
    },
    {
      "cell_type": "code",
      "metadata": {
        "id": "OPJytQtrDv09",
        "colab_type": "code",
        "colab": {}
      },
      "source": [
        "# Create the scaled training dataset.\n",
        "train_data = scaled_data[0:training_data_len, :]\n",
        "\n",
        "# Split the data into X_train and y_train data sets\n",
        "X_train=[]\n",
        "y_train = []\n",
        "for i in range(60,len(train_data)):\n",
        "    X_train.append(train_data[i-60:i,0])\n",
        "    y_train.append(train_data[i,0])"
      ],
      "execution_count": 0,
      "outputs": []
    },
    {
      "cell_type": "code",
      "metadata": {
        "id": "F150ukYNE2NL",
        "colab_type": "code",
        "colab": {}
      },
      "source": [
        "# Convert x_train and y_train to numpy arrays.\n",
        "X_train, y_train = np.array(X_train), np.array(y_train)"
      ],
      "execution_count": 0,
      "outputs": []
    },
    {
      "cell_type": "code",
      "metadata": {
        "id": "oe6Cctx7Fv3h",
        "colab_type": "code",
        "colab": {}
      },
      "source": [
        "# Reshape the data into the shape accepted by the LSTM.\n",
        "X_train = np.reshape(X_train, (X_train.shape[0],X_train.shape[1],1))"
      ],
      "execution_count": 0,
      "outputs": []
    },
    {
      "cell_type": "code",
      "metadata": {
        "id": "2MhRGAxsF845",
        "colab_type": "code",
        "colab": {
          "base_uri": "https://localhost:8080/",
          "height": 289
        },
        "outputId": "c70868cb-1648-4a7a-f565-6b98da6d058f"
      },
      "source": [
        "# Build the LSTM network model.\n",
        "model = Sequential()\n",
        "model.add(LSTM(units=50, return_sequences=True, input_shape=(X_train.shape[1],1)))\n",
        "model.add(LSTM(units=50, return_sequences=False))\n",
        "model.add(Dense(units=25))\n",
        "model.add(Dense(units=1))\n",
        "model.summary()"
      ],
      "execution_count": 126,
      "outputs": [
        {
          "output_type": "stream",
          "text": [
            "Model: \"sequential_5\"\n",
            "_________________________________________________________________\n",
            "Layer (type)                 Output Shape              Param #   \n",
            "=================================================================\n",
            "lstm_7 (LSTM)                (None, 60, 50)            10400     \n",
            "_________________________________________________________________\n",
            "lstm_8 (LSTM)                (None, 50)                20200     \n",
            "_________________________________________________________________\n",
            "dense_7 (Dense)              (None, 25)                1275      \n",
            "_________________________________________________________________\n",
            "dense_8 (Dense)              (None, 1)                 26        \n",
            "=================================================================\n",
            "Total params: 31,901\n",
            "Trainable params: 31,901\n",
            "Non-trainable params: 0\n",
            "_________________________________________________________________\n"
          ],
          "name": "stdout"
        }
      ]
    },
    {
      "cell_type": "code",
      "metadata": {
        "id": "de5rG7OHJjk6",
        "colab_type": "code",
        "colab": {
          "base_uri": "https://localhost:8080/",
          "height": 533
        },
        "outputId": "0a0d2fc5-a14c-4234-f5b2-b4a254719944"
      },
      "source": [
        "# Visualize.\n",
        "from keras.utils import plot_model\n",
        "plot_model(model, show_shapes=True)"
      ],
      "execution_count": 127,
      "outputs": [
        {
          "output_type": "execute_result",
          "data": {
            "image/png": "[encoded data removed]",
            "text/plain": [
              "<IPython.core.display.Image object>"
            ]
          },
          "metadata": {
            "tags": []
          },
          "execution_count": 127
        }
      ]
    },
    {
      "cell_type": "code",
      "metadata": {
        "id": "TzZJRM7pJp7-",
        "colab_type": "code",
        "colab": {}
      },
      "source": [
        "# Compile the model.\n",
        "model.compile(optimizer='adam', loss='mean_squared_error')"
      ],
      "execution_count": 0,
      "outputs": []
    },
    {
      "cell_type": "code",
      "metadata": {
        "id": "eE1PxBZwJucC",
        "colab_type": "code",
        "colab": {
          "base_uri": "https://localhost:8080/",
          "height": 68
        },
        "outputId": "477f682f-4213-45fb-f0db-e00332e1f830"
      },
      "source": [
        "# Train the model.\n",
        "model.fit(X_train, y_train, batch_size=1, epochs=1)"
      ],
      "execution_count": 129,
      "outputs": [
        {
          "output_type": "stream",
          "text": [
            "Epoch 1/1\n",
            "2629/2629 [==============================] - 107s 41ms/step - loss: 3.2569e-04\n"
          ],
          "name": "stdout"
        },
        {
          "output_type": "execute_result",
          "data": {
            "text/plain": [
              "<keras.callbacks.callbacks.History at 0x7f16783879b0>"
            ]
          },
          "metadata": {
            "tags": []
          },
          "execution_count": 129
        }
      ]
    },
    {
      "cell_type": "code",
      "metadata": {
        "id": "snlbZsaoJ0XL",
        "colab_type": "code",
        "colab": {}
      },
      "source": [
        "# Test dataset.\n",
        "test_data = scaled_data[training_data_len-60:, :]\n",
        "\n",
        "# Create the x_test and y_test datasets.\n",
        "X_test = []\n",
        "y_test =  dataset[training_data_len:, :]\n",
        "for i in range(60,len(test_data)):\n",
        "    X_test.append(test_data[i-60:i, 0])"
      ],
      "execution_count": 0,
      "outputs": []
    },
    {
      "cell_type": "code",
      "metadata": {
        "id": "29fEVTDJKX8v",
        "colab_type": "code",
        "colab": {}
      },
      "source": [
        "# Convert x_test to a numpy array.\n",
        "X_test = np.array(X_test)"
      ],
      "execution_count": 0,
      "outputs": []
    },
    {
      "cell_type": "code",
      "metadata": {
        "id": "foRF2TfzKdBH",
        "colab_type": "code",
        "colab": {}
      },
      "source": [
        "# Reshape the data into the shape accepted by the LSTM.\n",
        "X_test = np.reshape(X_test, (X_test.shape[0], X_test.shape[1], 1))"
      ],
      "execution_count": 0,
      "outputs": []
    },
    {
      "cell_type": "code",
      "metadata": {
        "id": "1wMJXm_XKmNB",
        "colab_type": "code",
        "colab": {}
      },
      "source": [
        "# Getting the models predicted price values.\n",
        "predictions = model.predict(X_test)\n",
        "predictions = scaler.inverse_transform(predictions) #Undo scaling"
      ],
      "execution_count": 0,
      "outputs": []
    },
    {
      "cell_type": "code",
      "metadata": {
        "id": "I6JsFrupKsaG",
        "colab_type": "code",
        "colab": {
          "base_uri": "https://localhost:8080/",
          "height": 34
        },
        "outputId": "0c9853e3-1318-4af4-f93b-0f18a7ac6252"
      },
      "source": [
        "# Calculate/Get the value of RMSE.\n",
        "rmse = np.sqrt(np.mean(((predictions- y_test)**2)))\n",
        "rmse"
      ],
      "execution_count": 134,
      "outputs": [
        {
          "output_type": "execute_result",
          "data": {
            "text/plain": [
              "7.480061207704517"
            ]
          },
          "metadata": {
            "tags": []
          },
          "execution_count": 134
        }
      ]
    },
    {
      "cell_type": "code",
      "metadata": {
        "id": "RWEYpkvYKv2c",
        "colab_type": "code",
        "colab": {
          "base_uri": "https://localhost:8080/",
          "height": 119
        },
        "outputId": "6ae2f792-8806-41da-c590-4ae94a8e2ac1"
      },
      "source": [
        "# Plot/Create the data for the graph.\n",
        "train = data[:training_data_len]\n",
        "valid = data[training_data_len:]\n",
        "valid['Predictions'] = predictions"
      ],
      "execution_count": 135,
      "outputs": [
        {
          "output_type": "stream",
          "text": [
            "/usr/local/lib/python3.6/dist-packages/ipykernel_launcher.py:3: SettingWithCopyWarning: \n",
            "A value is trying to be set on a copy of a slice from a DataFrame.\n",
            "Try using .loc[row_indexer,col_indexer] = value instead\n",
            "\n",
            "See the caveats in the documentation: https://pandas.pydata.org/pandas-docs/stable/user_guide/indexing.html#returning-a-view-versus-a-copy\n",
            "  This is separate from the ipykernel package so we can avoid doing imports until\n"
          ],
          "name": "stderr"
        }
      ]
    },
    {
      "cell_type": "code",
      "metadata": {
        "id": "YimyRLW8K3f_",
        "colab_type": "code",
        "colab": {
          "base_uri": "https://localhost:8080/",
          "height": 521
        },
        "outputId": "169cf9ea-36bf-402f-820c-7619f18a5203"
      },
      "source": [
        "# Visualize the data.\n",
        "plt.figure(figsize=(16,8))\n",
        "plt.title('Model')\n",
        "plt.xlabel('Date', fontsize=18)\n",
        "plt.ylabel('Close Price (USD)', fontsize=18)\n",
        "plt.plot(train['Close'])\n",
        "plt.plot(valid[['Close', 'Predictions']])\n",
        "plt.legend(['Train', 'Val', 'Predictions'], loc='lower right')\n",
        "plt.show()"
      ],
      "execution_count": 136,
      "outputs": [
        {
          "output_type": "display_data",
          "data": {
            "image/png": "[encoded data removed]",
            "text/plain": [
              "<Figure size 1152x576 with 1 Axes>"
            ]
          },
          "metadata": {
            "tags": [],
            "needs_background": "light"
          }
        }
      ]
    },
    {
      "cell_type": "code",
      "metadata": {
        "id": "yi-Hn6OAK_NA",
        "colab_type": "code",
        "colab": {
          "base_uri": "https://localhost:8080/",
          "height": 450
        },
        "outputId": "6d8c432b-9fa3-467c-ee84-35332b56a30a"
      },
      "source": [
        "# Show the valid and predicted prices.\n",
        "valid"
      ],
      "execution_count": 137,
      "outputs": [
        {
          "output_type": "execute_result",
          "data": {
            "text/html": [
              "<div>\n",
              "<style scoped>\n",
              "    .dataframe tbody tr th:only-of-type {\n",
              "        vertical-align: middle;\n",
              "    }\n",
              "\n",
              "    .dataframe tbody tr th {\n",
              "        vertical-align: top;\n",
              "    }\n",
              "\n",
              "    .dataframe thead th {\n",
              "        text-align: right;\n",
              "    }\n",
              "</style>\n",
              "<table border=\"1\" class=\"dataframe\">\n",
              "  <thead>\n",
              "    <tr style=\"text-align: right;\">\n",
              "      <th></th>\n",
              "      <th>Close</th>\n",
              "      <th>Predictions</th>\n",
              "    </tr>\n",
              "    <tr>\n",
              "      <th>Date</th>\n",
              "      <th></th>\n",
              "      <th></th>\n",
              "    </tr>\n",
              "  </thead>\n",
              "  <tbody>\n",
              "    <tr>\n",
              "      <th>2017-09-07</th>\n",
              "      <td>161.259995</td>\n",
              "      <td>167.323181</td>\n",
              "    </tr>\n",
              "    <tr>\n",
              "      <th>2017-09-08</th>\n",
              "      <td>158.630005</td>\n",
              "      <td>167.246643</td>\n",
              "    </tr>\n",
              "    <tr>\n",
              "      <th>2017-09-11</th>\n",
              "      <td>161.500000</td>\n",
              "      <td>166.762741</td>\n",
              "    </tr>\n",
              "    <tr>\n",
              "      <th>2017-09-12</th>\n",
              "      <td>160.860001</td>\n",
              "      <td>166.432861</td>\n",
              "    </tr>\n",
              "    <tr>\n",
              "      <th>2017-09-13</th>\n",
              "      <td>159.649994</td>\n",
              "      <td>166.140671</td>\n",
              "    </tr>\n",
              "    <tr>\n",
              "      <th>...</th>\n",
              "      <td>...</td>\n",
              "      <td>...</td>\n",
              "    </tr>\n",
              "    <tr>\n",
              "      <th>2020-05-04</th>\n",
              "      <td>293.160004</td>\n",
              "      <td>283.251221</td>\n",
              "    </tr>\n",
              "    <tr>\n",
              "      <th>2020-05-05</th>\n",
              "      <td>297.559998</td>\n",
              "      <td>285.181305</td>\n",
              "    </tr>\n",
              "    <tr>\n",
              "      <th>2020-05-06</th>\n",
              "      <td>300.630005</td>\n",
              "      <td>287.450073</td>\n",
              "    </tr>\n",
              "    <tr>\n",
              "      <th>2020-05-07</th>\n",
              "      <td>303.739990</td>\n",
              "      <td>289.959930</td>\n",
              "    </tr>\n",
              "    <tr>\n",
              "      <th>2020-05-08</th>\n",
              "      <td>310.130005</td>\n",
              "      <td>292.645203</td>\n",
              "    </tr>\n",
              "  </tbody>\n",
              "</table>\n",
              "<p>672 rows × 2 columns</p>\n",
              "</div>"
            ],
            "text/plain": [
              "                 Close  Predictions\n",
              "Date                               \n",
              "2017-09-07  161.259995   167.323181\n",
              "2017-09-08  158.630005   167.246643\n",
              "2017-09-11  161.500000   166.762741\n",
              "2017-09-12  160.860001   166.432861\n",
              "2017-09-13  159.649994   166.140671\n",
              "...                ...          ...\n",
              "2020-05-04  293.160004   283.251221\n",
              "2020-05-05  297.559998   285.181305\n",
              "2020-05-06  300.630005   287.450073\n",
              "2020-05-07  303.739990   289.959930\n",
              "2020-05-08  310.130005   292.645203\n",
              "\n",
              "[672 rows x 2 columns]"
            ]
          },
          "metadata": {
            "tags": []
          },
          "execution_count": 137
        }
      ]
    },
    {
      "cell_type": "code",
      "metadata": {
        "id": "P5kW8uuWLdD-",
        "colab_type": "code",
        "colab": {}
      },
      "source": [
        "# Get the quote.\n",
        "apple_quote = web.DataReader('AAPL', data_source='yahoo', start='2007-01-01', end='2020-08-08')"
      ],
      "execution_count": 0,
      "outputs": []
    },
    {
      "cell_type": "code",
      "metadata": {
        "id": "lCZlfNo4Ls62",
        "colab_type": "code",
        "colab": {}
      },
      "source": [
        "# Create a new dataframe.\n",
        "new_df = apple_quote.filter(['Close'])"
      ],
      "execution_count": 0,
      "outputs": []
    },
    {
      "cell_type": "code",
      "metadata": {
        "id": "EzdgK4qeLwC1",
        "colab_type": "code",
        "colab": {}
      },
      "source": [
        "# Get the last 60 day closing price.\n",
        "last_60_days = new_df[-60:].values"
      ],
      "execution_count": 0,
      "outputs": []
    },
    {
      "cell_type": "code",
      "metadata": {
        "id": "pt71KBNPLygt",
        "colab_type": "code",
        "colab": {}
      },
      "source": [
        "# Scale the data to be values between 0 and 1.\n",
        "last_60_days_scaled = scaler.transform(last_60_days)"
      ],
      "execution_count": 0,
      "outputs": []
    },
    {
      "cell_type": "code",
      "metadata": {
        "id": "20kw6dPeL2S4",
        "colab_type": "code",
        "colab": {}
      },
      "source": [
        "# Create an empty list.\n",
        "X_test = []\n",
        "\n",
        "# Append teh past 60 days.\n",
        "X_test.append(last_60_days_scaled)\n",
        "\n",
        "# Convert the X_test data set to a numpy array.\n",
        "X_test = np.array(X_test)"
      ],
      "execution_count": 0,
      "outputs": []
    },
    {
      "cell_type": "code",
      "metadata": {
        "id": "1Xuiv5OeMA3d",
        "colab_type": "code",
        "colab": {}
      },
      "source": [
        "# Reshape the data.\n",
        "X_test = np.reshape(X_test, (X_test.shape[0], X_test.shape[1], 1))"
      ],
      "execution_count": 0,
      "outputs": []
    },
    {
      "cell_type": "code",
      "metadata": {
        "id": "bKk8nW4rMJWf",
        "colab_type": "code",
        "colab": {}
      },
      "source": [
        "# Get the predicted scaled price.\n",
        "pred_price = model.predict(X_test)"
      ],
      "execution_count": 0,
      "outputs": []
    },
    {
      "cell_type": "code",
      "metadata": {
        "id": "qqOwZ-i1MMJf",
        "colab_type": "code",
        "colab": {
          "base_uri": "https://localhost:8080/",
          "height": 34
        },
        "outputId": "de4fa0b1-1320-4581-a365-ae83db2ae3b9"
      },
      "source": [
        "# Undo the scaling.\n",
        "pred_price = scaler.inverse_transform(pred_price)\n",
        "print(pred_price)"
      ],
      "execution_count": 145,
      "outputs": [
        {
          "output_type": "stream",
          "text": [
            "[[295.82623]]\n"
          ],
          "name": "stdout"
        }
      ]
    },
    {
      "cell_type": "code",
      "metadata": {
        "id": "mYMLgtFsMQ-d",
        "colab_type": "code",
        "colab": {}
      },
      "source": [
        ""
      ],
      "execution_count": 0,
      "outputs": []
    }
  ]
}